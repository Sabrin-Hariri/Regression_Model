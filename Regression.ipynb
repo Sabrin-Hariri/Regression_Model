{
  "cells": [
    {
      "cell_type": "markdown",
      "metadata": {
        "id": "3749f87b-7c36-4c6f-82fe-f6ad8a042430"
      },
      "source": [
        "## Datasets\n",
        "\n",
        "In this lab you will be using dataset(s):\n",
        "\n",
        " - Modified version of car mileage dataset. Available at https://archive.ics.uci.edu/ml/datasets/auto+mpg\n"
      ]
    },
    {
      "cell_type": "markdown",
      "metadata": {
        "id": "cb1c87ff-7ae5-4aec-974f-ff3e152dad0e"
      },
      "source": [
        "----\n"
      ]
    },
    {
      "cell_type": "markdown",
      "metadata": {
        "id": "1911ba15-09a6-45f8-b895-8ab07d76df32"
      },
      "source": [
        "## Setup\n"
      ]
    },
    {
      "cell_type": "markdown",
      "metadata": {
        "id": "9d918cc8-a78c-4c19-94ed-2c35433c72f5"
      },
      "source": [
        "### Importing Required Libraries\n"
      ]
    },
    {
      "cell_type": "code",
      "metadata": {
        "id": "b0a39b19-8af5-4bf6-800f-9e831c4b0c99"
      },
      "outputs": [],
      "source": [
        "# Import Libraries\n",
        "\n",
        "from sklearn.linear_model import LinearRegression\n",
        "from sklearn.datasets import make_regression\n",
        "import pandas as pd\n",
        "from sklearn.impute import SimpleImputer\n",
        "import numpy as np\n",
        "from sklearn.model_selection import train_test_split\n",
        "from sklearn.linear_model import Lasso\n",
        "from sklearn.linear_model import Ridge\n",
        "from sklearn.ensemble import RandomForestRegressor\n",
        "from sklearn.svm import SVR\n",
        "from sklearn.neighbors import KNeighborsRegressor\n",
        "\n",
        "from sklearn.tree import DecisionTreeRegressor"
      ],
      "execution_count": 121
    },
    {
      "cell_type": "markdown",
      "metadata": {
        "id": "047d37c5-5bd4-4b9f-86b8-c256bde0294c"
      },
      "source": [
        "## Task 1 - Load the data in a csv file into a dataframe\n"
      ]
    },
    {
      "cell_type": "code",
      "metadata": {
        "id": "874b086e-d6e5-4511-867f-ead87aa5622e"
      },
      "outputs": [],
      "source": [
        "# the data set is available at the url below.\n",
        "URL = \"https://cf-courses-data.s3.us.cloud-object-storage.appdomain.cloud/IBM-BD0231EN-SkillsNetwork/datasets/mpg.csv\"\n",
        "\n",
        "# using the read_csv function in the pandas library, we load the data into a dataframe.\n",
        "\n",
        "df = pd.read_csv(URL)"
      ],
      "execution_count": 88
    },
    {
      "cell_type": "code",
      "source": [
        "df"
      ],
      "metadata": {
        "colab": {
          "base_uri": "https://localhost:8080/",
          "height": 424
        },
        "id": "x2sK7x7AXv3u",
        "outputId": "c41da261-4e8f-4c35-c75a-ac7f0829a582"
      },
      "execution_count": 89,
      "outputs": [
        {
          "output_type": "execute_result",
          "data": {
            "text/plain": [
              "      MPG  Cylinders  Engine Disp  Horsepower  Weight  Accelerate  Year  \\\n",
              "0    15.0          8        390.0         190    3850         8.5    70   \n",
              "1    21.0          6        199.0          90    2648        15.0    70   \n",
              "2    18.0          6        199.0          97    2774        15.5    70   \n",
              "3    16.0          8        304.0         150    3433        12.0    70   \n",
              "4    14.0          8        455.0         225    3086        10.0    70   \n",
              "..    ...        ...          ...         ...     ...         ...   ...   \n",
              "387  31.0          4         91.0          68    1970        17.6    82   \n",
              "388  37.0          4         91.0          68    2025        18.2    82   \n",
              "389  36.0          4        120.0          88    2160        14.5    82   \n",
              "390  32.0          4        144.0          96    2665        13.9    82   \n",
              "391  34.0          4        108.0          70    2245        16.9    82   \n",
              "\n",
              "       Origin  \n",
              "0    American  \n",
              "1    American  \n",
              "2    American  \n",
              "3    American  \n",
              "4    American  \n",
              "..        ...  \n",
              "387  Japanese  \n",
              "388  Japanese  \n",
              "389  Japanese  \n",
              "390  Japanese  \n",
              "391  Japanese  \n",
              "\n",
              "[392 rows x 8 columns]"
            ],
            "text/html": [
              "\n",
              "  <div id=\"df-a57f11c7-fa11-4c35-a9e9-3eff77a55d15\" class=\"colab-df-container\">\n",
              "    <div>\n",
              "<style scoped>\n",
              "    .dataframe tbody tr th:only-of-type {\n",
              "        vertical-align: middle;\n",
              "    }\n",
              "\n",
              "    .dataframe tbody tr th {\n",
              "        vertical-align: top;\n",
              "    }\n",
              "\n",
              "    .dataframe thead th {\n",
              "        text-align: right;\n",
              "    }\n",
              "</style>\n",
              "<table border=\"1\" class=\"dataframe\">\n",
              "  <thead>\n",
              "    <tr style=\"text-align: right;\">\n",
              "      <th></th>\n",
              "      <th>MPG</th>\n",
              "      <th>Cylinders</th>\n",
              "      <th>Engine Disp</th>\n",
              "      <th>Horsepower</th>\n",
              "      <th>Weight</th>\n",
              "      <th>Accelerate</th>\n",
              "      <th>Year</th>\n",
              "      <th>Origin</th>\n",
              "    </tr>\n",
              "  </thead>\n",
              "  <tbody>\n",
              "    <tr>\n",
              "      <th>0</th>\n",
              "      <td>15.0</td>\n",
              "      <td>8</td>\n",
              "      <td>390.0</td>\n",
              "      <td>190</td>\n",
              "      <td>3850</td>\n",
              "      <td>8.5</td>\n",
              "      <td>70</td>\n",
              "      <td>American</td>\n",
              "    </tr>\n",
              "    <tr>\n",
              "      <th>1</th>\n",
              "      <td>21.0</td>\n",
              "      <td>6</td>\n",
              "      <td>199.0</td>\n",
              "      <td>90</td>\n",
              "      <td>2648</td>\n",
              "      <td>15.0</td>\n",
              "      <td>70</td>\n",
              "      <td>American</td>\n",
              "    </tr>\n",
              "    <tr>\n",
              "      <th>2</th>\n",
              "      <td>18.0</td>\n",
              "      <td>6</td>\n",
              "      <td>199.0</td>\n",
              "      <td>97</td>\n",
              "      <td>2774</td>\n",
              "      <td>15.5</td>\n",
              "      <td>70</td>\n",
              "      <td>American</td>\n",
              "    </tr>\n",
              "    <tr>\n",
              "      <th>3</th>\n",
              "      <td>16.0</td>\n",
              "      <td>8</td>\n",
              "      <td>304.0</td>\n",
              "      <td>150</td>\n",
              "      <td>3433</td>\n",
              "      <td>12.0</td>\n",
              "      <td>70</td>\n",
              "      <td>American</td>\n",
              "    </tr>\n",
              "    <tr>\n",
              "      <th>4</th>\n",
              "      <td>14.0</td>\n",
              "      <td>8</td>\n",
              "      <td>455.0</td>\n",
              "      <td>225</td>\n",
              "      <td>3086</td>\n",
              "      <td>10.0</td>\n",
              "      <td>70</td>\n",
              "      <td>American</td>\n",
              "    </tr>\n",
              "    <tr>\n",
              "      <th>...</th>\n",
              "      <td>...</td>\n",
              "      <td>...</td>\n",
              "      <td>...</td>\n",
              "      <td>...</td>\n",
              "      <td>...</td>\n",
              "      <td>...</td>\n",
              "      <td>...</td>\n",
              "      <td>...</td>\n",
              "    </tr>\n",
              "    <tr>\n",
              "      <th>387</th>\n",
              "      <td>31.0</td>\n",
              "      <td>4</td>\n",
              "      <td>91.0</td>\n",
              "      <td>68</td>\n",
              "      <td>1970</td>\n",
              "      <td>17.6</td>\n",
              "      <td>82</td>\n",
              "      <td>Japanese</td>\n",
              "    </tr>\n",
              "    <tr>\n",
              "      <th>388</th>\n",
              "      <td>37.0</td>\n",
              "      <td>4</td>\n",
              "      <td>91.0</td>\n",
              "      <td>68</td>\n",
              "      <td>2025</td>\n",
              "      <td>18.2</td>\n",
              "      <td>82</td>\n",
              "      <td>Japanese</td>\n",
              "    </tr>\n",
              "    <tr>\n",
              "      <th>389</th>\n",
              "      <td>36.0</td>\n",
              "      <td>4</td>\n",
              "      <td>120.0</td>\n",
              "      <td>88</td>\n",
              "      <td>2160</td>\n",
              "      <td>14.5</td>\n",
              "      <td>82</td>\n",
              "      <td>Japanese</td>\n",
              "    </tr>\n",
              "    <tr>\n",
              "      <th>390</th>\n",
              "      <td>32.0</td>\n",
              "      <td>4</td>\n",
              "      <td>144.0</td>\n",
              "      <td>96</td>\n",
              "      <td>2665</td>\n",
              "      <td>13.9</td>\n",
              "      <td>82</td>\n",
              "      <td>Japanese</td>\n",
              "    </tr>\n",
              "    <tr>\n",
              "      <th>391</th>\n",
              "      <td>34.0</td>\n",
              "      <td>4</td>\n",
              "      <td>108.0</td>\n",
              "      <td>70</td>\n",
              "      <td>2245</td>\n",
              "      <td>16.9</td>\n",
              "      <td>82</td>\n",
              "      <td>Japanese</td>\n",
              "    </tr>\n",
              "  </tbody>\n",
              "</table>\n",
              "<p>392 rows × 8 columns</p>\n",
              "</div>\n",
              "    <div class=\"colab-df-buttons\">\n",
              "\n",
              "  <div class=\"colab-df-container\">\n",
              "    <button class=\"colab-df-convert\" onclick=\"convertToInteractive('df-a57f11c7-fa11-4c35-a9e9-3eff77a55d15')\"\n",
              "            title=\"Convert this dataframe to an interactive table.\"\n",
              "            style=\"display:none;\">\n",
              "\n",
              "  <svg xmlns=\"http://www.w3.org/2000/svg\" height=\"24px\" viewBox=\"0 -960 960 960\">\n",
              "    <path d=\"M120-120v-720h720v720H120Zm60-500h600v-160H180v160Zm220 220h160v-160H400v160Zm0 220h160v-160H400v160ZM180-400h160v-160H180v160Zm440 0h160v-160H620v160ZM180-180h160v-160H180v160Zm440 0h160v-160H620v160Z\"/>\n",
              "  </svg>\n",
              "    </button>\n",
              "\n",
              "  <style>\n",
              "    .colab-df-container {\n",
              "      display:flex;\n",
              "      gap: 12px;\n",
              "    }\n",
              "\n",
              "    .colab-df-convert {\n",
              "      background-color: #E8F0FE;\n",
              "      border: none;\n",
              "      border-radius: 50%;\n",
              "      cursor: pointer;\n",
              "      display: none;\n",
              "      fill: #1967D2;\n",
              "      height: 32px;\n",
              "      padding: 0 0 0 0;\n",
              "      width: 32px;\n",
              "    }\n",
              "\n",
              "    .colab-df-convert:hover {\n",
              "      background-color: #E2EBFA;\n",
              "      box-shadow: 0px 1px 2px rgba(60, 64, 67, 0.3), 0px 1px 3px 1px rgba(60, 64, 67, 0.15);\n",
              "      fill: #174EA6;\n",
              "    }\n",
              "\n",
              "    .colab-df-buttons div {\n",
              "      margin-bottom: 4px;\n",
              "    }\n",
              "\n",
              "    [theme=dark] .colab-df-convert {\n",
              "      background-color: #3B4455;\n",
              "      fill: #D2E3FC;\n",
              "    }\n",
              "\n",
              "    [theme=dark] .colab-df-convert:hover {\n",
              "      background-color: #434B5C;\n",
              "      box-shadow: 0px 1px 3px 1px rgba(0, 0, 0, 0.15);\n",
              "      filter: drop-shadow(0px 1px 2px rgba(0, 0, 0, 0.3));\n",
              "      fill: #FFFFFF;\n",
              "    }\n",
              "  </style>\n",
              "\n",
              "    <script>\n",
              "      const buttonEl =\n",
              "        document.querySelector('#df-a57f11c7-fa11-4c35-a9e9-3eff77a55d15 button.colab-df-convert');\n",
              "      buttonEl.style.display =\n",
              "        google.colab.kernel.accessAllowed ? 'block' : 'none';\n",
              "\n",
              "      async function convertToInteractive(key) {\n",
              "        const element = document.querySelector('#df-a57f11c7-fa11-4c35-a9e9-3eff77a55d15');\n",
              "        const dataTable =\n",
              "          await google.colab.kernel.invokeFunction('convertToInteractive',\n",
              "                                                    [key], {});\n",
              "        if (!dataTable) return;\n",
              "\n",
              "        const docLinkHtml = 'Like what you see? Visit the ' +\n",
              "          '<a target=\"_blank\" href=https://colab.research.google.com/notebooks/data_table.ipynb>data table notebook</a>'\n",
              "          + ' to learn more about interactive tables.';\n",
              "        element.innerHTML = '';\n",
              "        dataTable['output_type'] = 'display_data';\n",
              "        await google.colab.output.renderOutput(dataTable, element);\n",
              "        const docLink = document.createElement('div');\n",
              "        docLink.innerHTML = docLinkHtml;\n",
              "        element.appendChild(docLink);\n",
              "      }\n",
              "    </script>\n",
              "  </div>\n",
              "\n",
              "\n",
              "<div id=\"df-7f2d2dde-ea4a-4727-bef2-6e49c19fe915\">\n",
              "  <button class=\"colab-df-quickchart\" onclick=\"quickchart('df-7f2d2dde-ea4a-4727-bef2-6e49c19fe915')\"\n",
              "            title=\"Suggest charts.\"\n",
              "            style=\"display:none;\">\n",
              "\n",
              "<svg xmlns=\"http://www.w3.org/2000/svg\" height=\"24px\"viewBox=\"0 0 24 24\"\n",
              "     width=\"24px\">\n",
              "    <g>\n",
              "        <path d=\"M19 3H5c-1.1 0-2 .9-2 2v14c0 1.1.9 2 2 2h14c1.1 0 2-.9 2-2V5c0-1.1-.9-2-2-2zM9 17H7v-7h2v7zm4 0h-2V7h2v10zm4 0h-2v-4h2v4z\"/>\n",
              "    </g>\n",
              "</svg>\n",
              "  </button>\n",
              "\n",
              "<style>\n",
              "  .colab-df-quickchart {\n",
              "      --bg-color: #E8F0FE;\n",
              "      --fill-color: #1967D2;\n",
              "      --hover-bg-color: #E2EBFA;\n",
              "      --hover-fill-color: #174EA6;\n",
              "      --disabled-fill-color: #AAA;\n",
              "      --disabled-bg-color: #DDD;\n",
              "  }\n",
              "\n",
              "  [theme=dark] .colab-df-quickchart {\n",
              "      --bg-color: #3B4455;\n",
              "      --fill-color: #D2E3FC;\n",
              "      --hover-bg-color: #434B5C;\n",
              "      --hover-fill-color: #FFFFFF;\n",
              "      --disabled-bg-color: #3B4455;\n",
              "      --disabled-fill-color: #666;\n",
              "  }\n",
              "\n",
              "  .colab-df-quickchart {\n",
              "    background-color: var(--bg-color);\n",
              "    border: none;\n",
              "    border-radius: 50%;\n",
              "    cursor: pointer;\n",
              "    display: none;\n",
              "    fill: var(--fill-color);\n",
              "    height: 32px;\n",
              "    padding: 0;\n",
              "    width: 32px;\n",
              "  }\n",
              "\n",
              "  .colab-df-quickchart:hover {\n",
              "    background-color: var(--hover-bg-color);\n",
              "    box-shadow: 0 1px 2px rgba(60, 64, 67, 0.3), 0 1px 3px 1px rgba(60, 64, 67, 0.15);\n",
              "    fill: var(--button-hover-fill-color);\n",
              "  }\n",
              "\n",
              "  .colab-df-quickchart-complete:disabled,\n",
              "  .colab-df-quickchart-complete:disabled:hover {\n",
              "    background-color: var(--disabled-bg-color);\n",
              "    fill: var(--disabled-fill-color);\n",
              "    box-shadow: none;\n",
              "  }\n",
              "\n",
              "  .colab-df-spinner {\n",
              "    border: 2px solid var(--fill-color);\n",
              "    border-color: transparent;\n",
              "    border-bottom-color: var(--fill-color);\n",
              "    animation:\n",
              "      spin 1s steps(1) infinite;\n",
              "  }\n",
              "\n",
              "  @keyframes spin {\n",
              "    0% {\n",
              "      border-color: transparent;\n",
              "      border-bottom-color: var(--fill-color);\n",
              "      border-left-color: var(--fill-color);\n",
              "    }\n",
              "    20% {\n",
              "      border-color: transparent;\n",
              "      border-left-color: var(--fill-color);\n",
              "      border-top-color: var(--fill-color);\n",
              "    }\n",
              "    30% {\n",
              "      border-color: transparent;\n",
              "      border-left-color: var(--fill-color);\n",
              "      border-top-color: var(--fill-color);\n",
              "      border-right-color: var(--fill-color);\n",
              "    }\n",
              "    40% {\n",
              "      border-color: transparent;\n",
              "      border-right-color: var(--fill-color);\n",
              "      border-top-color: var(--fill-color);\n",
              "    }\n",
              "    60% {\n",
              "      border-color: transparent;\n",
              "      border-right-color: var(--fill-color);\n",
              "    }\n",
              "    80% {\n",
              "      border-color: transparent;\n",
              "      border-right-color: var(--fill-color);\n",
              "      border-bottom-color: var(--fill-color);\n",
              "    }\n",
              "    90% {\n",
              "      border-color: transparent;\n",
              "      border-bottom-color: var(--fill-color);\n",
              "    }\n",
              "  }\n",
              "</style>\n",
              "\n",
              "  <script>\n",
              "    async function quickchart(key) {\n",
              "      const quickchartButtonEl =\n",
              "        document.querySelector('#' + key + ' button');\n",
              "      quickchartButtonEl.disabled = true;  // To prevent multiple clicks.\n",
              "      quickchartButtonEl.classList.add('colab-df-spinner');\n",
              "      try {\n",
              "        const charts = await google.colab.kernel.invokeFunction(\n",
              "            'suggestCharts', [key], {});\n",
              "      } catch (error) {\n",
              "        console.error('Error during call to suggestCharts:', error);\n",
              "      }\n",
              "      quickchartButtonEl.classList.remove('colab-df-spinner');\n",
              "      quickchartButtonEl.classList.add('colab-df-quickchart-complete');\n",
              "    }\n",
              "    (() => {\n",
              "      let quickchartButtonEl =\n",
              "        document.querySelector('#df-7f2d2dde-ea4a-4727-bef2-6e49c19fe915 button');\n",
              "      quickchartButtonEl.style.display =\n",
              "        google.colab.kernel.accessAllowed ? 'block' : 'none';\n",
              "    })();\n",
              "  </script>\n",
              "</div>\n",
              "    </div>\n",
              "  </div>\n"
            ]
          },
          "metadata": {},
          "execution_count": 89
        }
      ]
    },
    {
      "source": [
        "from matplotlib import pyplot as plt\n",
        "df['Horsepower'].plot(kind='hist', bins=20, title='Horsepower')\n",
        "plt.gca().spines[['top', 'right',]].set_visible(False)"
      ],
      "cell_type": "code",
      "metadata": {
        "colab": {
          "base_uri": "https://localhost:8080/",
          "height": 452
        },
        "id": "72bghxx7eS-O",
        "outputId": "271f4763-ba13-4353-973f-4ebd77e6bf65"
      },
      "execution_count": 90,
      "outputs": [
        {
          "output_type": "display_data",
          "data": {
            "text/plain": [
              "<Figure size 640x480 with 1 Axes>"
            ],
            "image/png": "[encoded data removed]"
          },
          "metadata": {}
        }
      ]
    },
    {
      "source": [
        "from matplotlib import pyplot as plt\n",
        "import seaborn as sns\n",
        "figsize = (12, 1.2 * len(df['Origin'].unique()))\n",
        "plt.figure(figsize=figsize)\n",
        "sns.violinplot(df, x='MPG', y='Origin', inner='stick', palette='Dark2')\n",
        "sns.despine(top=True, right=True, bottom=True, left=True)"
      ],
      "cell_type": "code",
      "metadata": {
        "colab": {
          "base_uri": "https://localhost:8080/",
          "height": 357
        },
        "id": "K2o-MF7BeLza",
        "outputId": "7659142d-d8ee-4f2c-e6c2-5e1316a0e638"
      },
      "execution_count": 91,
      "outputs": [
        {
          "output_type": "display_data",
          "data": {
            "text/plain": [
              "<Figure size 1200x360 with 1 Axes>"
            ],
            "image/png": "[encoded data removed]"
          },
          "metadata": {}
        }
      ]
    },
    {
      "source": [
        "from matplotlib import pyplot as plt\n",
        "df['Horsepower'].plot(kind='line', figsize=(8, 4), title='Horsepower')\n",
        "plt.gca().spines[['top', 'right']].set_visible(False)"
      ],
      "cell_type": "code",
      "metadata": {
        "colab": {
          "base_uri": "https://localhost:8080/",
          "height": 391
        },
        "id": "Zyb30Wv7eJm-",
        "outputId": "6824cca1-ac8d-4c37-e029-309a3d39381a"
      },
      "execution_count": 92,
      "outputs": [
        {
          "output_type": "display_data",
          "data": {
            "text/plain": [
              "<Figure size 800x400 with 1 Axes>"
            ],
            "image/png": "[encoded data removed]"
          },
          "metadata": {}
        }
      ]
    },
    {
      "source": [
        "from matplotlib import pyplot as plt\n",
        "import seaborn as sns\n",
        "df.groupby('Origin').size().plot(kind='barh', color=sns.palettes.mpl_palette('Dark2'))\n",
        "plt.gca().spines[['top', 'right',]].set_visible(False)"
      ],
      "cell_type": "code",
      "metadata": {
        "colab": {
          "base_uri": "https://localhost:8080/",
          "height": 430
        },
        "id": "PhlYLKtTeEIH",
        "outputId": "7662deb7-2cf9-4c86-bf0a-4042f9559a2a"
      },
      "execution_count": 93,
      "outputs": [
        {
          "output_type": "display_data",
          "data": {
            "text/plain": [
              "<Figure size 640x480 with 1 Axes>"
            ],
            "image/png": "[encoded data removed]"
          },
          "metadata": {}
        }
      ]
    },
    {
      "cell_type": "code",
      "metadata": {
        "colab": {
          "base_uri": "https://localhost:8080/",
          "height": 466
        },
        "id": "2d2b20a3-de9f-44fe-8cc4-5eb738da2415",
        "outputId": "1fef74ea-abe8-4695-903f-e91767140395"
      },
      "outputs": [
        {
          "output_type": "execute_result",
          "data": {
            "text/plain": [
              "<Axes: xlabel='Horsepower', ylabel='MPG'>"
            ]
          },
          "metadata": {},
          "execution_count": 94
        },
        {
          "output_type": "display_data",
          "data": {
            "text/plain": [
              "<Figure size 640x480 with 1 Axes>"
            ],
            "image/png": "[encoded data removed]"
          },
          "metadata": {}
        }
      ],
      "source": [
        "df.plot.scatter(x = \"Horsepower\", y = \"MPG\")"
      ],
      "execution_count": 94
    },
    {
      "cell_type": "code",
      "metadata": {
        "colab": {
          "base_uri": "https://localhost:8080/"
        },
        "id": "6748a562-7e0d-45ee-9fe5-0612cdcb4569",
        "outputId": "f7d14b15-52b5-4730-bbad-11e60cd0e341"
      },
      "outputs": [
        {
          "output_type": "execute_result",
          "data": {
            "text/plain": [
              "(392, 8)"
            ]
          },
          "metadata": {},
          "execution_count": 95
        }
      ],
      "source": [
        "df.shape"
      ],
      "execution_count": 95
    },
    {
      "cell_type": "code",
      "source": [
        "df.info()"
      ],
      "metadata": {
        "id": "WKY_k5GUmcfQ",
        "outputId": "fa259a46-b09d-4f12-f1dd-ff3042c801ef",
        "colab": {
          "base_uri": "https://localhost:8080/"
        }
      },
      "execution_count": 96,
      "outputs": [
        {
          "output_type": "stream",
          "name": "stdout",
          "text": [
            "<class 'pandas.core.frame.DataFrame'>\n",
            "RangeIndex: 392 entries, 0 to 391\n",
            "Data columns (total 8 columns):\n",
            " #   Column       Non-Null Count  Dtype  \n",
            "---  ------       --------------  -----  \n",
            " 0   MPG          392 non-null    float64\n",
            " 1   Cylinders    392 non-null    int64  \n",
            " 2   Engine Disp  392 non-null    float64\n",
            " 3   Horsepower   392 non-null    int64  \n",
            " 4   Weight       392 non-null    int64  \n",
            " 5   Accelerate   392 non-null    float64\n",
            " 6   Year         392 non-null    int64  \n",
            " 7   Origin       392 non-null    object \n",
            "dtypes: float64(3), int64(4), object(1)\n",
            "memory usage: 24.6+ KB\n"
          ]
        }
      ]
    },
    {
      "cell_type": "markdown",
      "source": [
        "df['Origin'] = df['Origin'].fillna(0)\n"
      ],
      "metadata": {
        "id": "n_gWxMtZwB2o"
      }
    },
    {
      "cell_type": "code",
      "source": [
        "\n",
        "X = df.drop(['MPG','Origin'], axis=1, inplace=False)\n",
        "print('X Data is \\n' , X.head())\n",
        "print('X shape is ' , X.shape)\n"
      ],
      "metadata": {
        "id": "75p_66vKggxq",
        "outputId": "25443549-70b4-4bac-845f-3adf22ff4eca",
        "colab": {
          "base_uri": "https://localhost:8080/"
        }
      },
      "execution_count": 97,
      "outputs": [
        {
          "output_type": "stream",
          "name": "stdout",
          "text": [
            "X Data is \n",
            "    Cylinders  Engine Disp  Horsepower  Weight  Accelerate  Year\n",
            "0          8        390.0         190    3850         8.5    70\n",
            "1          6        199.0          90    2648        15.0    70\n",
            "2          6        199.0          97    2774        15.5    70\n",
            "3          8        304.0         150    3433        12.0    70\n",
            "4          8        455.0         225    3086        10.0    70\n",
            "X shape is  (392, 6)\n"
          ]
        }
      ]
    },
    {
      "cell_type": "code",
      "source": [
        "y = df['MPG']\n",
        "y"
      ],
      "metadata": {
        "id": "8gPoL9YzjNbA",
        "outputId": "5b01b5c5-4971-4548-dcfa-8ee19956e190",
        "colab": {
          "base_uri": "https://localhost:8080/"
        }
      },
      "execution_count": 98,
      "outputs": [
        {
          "output_type": "execute_result",
          "data": {
            "text/plain": [
              "0      15.0\n",
              "1      21.0\n",
              "2      18.0\n",
              "3      16.0\n",
              "4      14.0\n",
              "       ... \n",
              "387    31.0\n",
              "388    37.0\n",
              "389    36.0\n",
              "390    32.0\n",
              "391    34.0\n",
              "Name: MPG, Length: 392, dtype: float64"
            ]
          },
          "metadata": {},
          "execution_count": 98
        }
      ]
    },
    {
      "cell_type": "code",
      "source": [
        "X_train, X_test, y_train, y_test = train_test_split(X, y, test_size=0.2, random_state=44, shuffle =True)\n"
      ],
      "metadata": {
        "id": "jLbdO37FjfH2"
      },
      "execution_count": 99,
      "outputs": []
    },
    {
      "cell_type": "markdown",
      "source": [
        "# 'errors='coerce'' will convert non-numeric values to NaN\n"
      ],
      "metadata": {
        "id": "dybmg7qSvjcl"
      }
    },
    {
      "cell_type": "code",
      "source": [
        "df"
      ],
      "metadata": {
        "id": "GO_avO-GvlmW",
        "outputId": "ea255eb1-71ef-41a3-c301-ba486576cde0",
        "colab": {
          "base_uri": "https://localhost:8080/",
          "height": 424
        }
      },
      "execution_count": 100,
      "outputs": [
        {
          "output_type": "execute_result",
          "data": {
            "text/plain": [
              "      MPG  Cylinders  Engine Disp  Horsepower  Weight  Accelerate  Year  \\\n",
              "0    15.0          8        390.0         190    3850         8.5    70   \n",
              "1    21.0          6        199.0          90    2648        15.0    70   \n",
              "2    18.0          6        199.0          97    2774        15.5    70   \n",
              "3    16.0          8        304.0         150    3433        12.0    70   \n",
              "4    14.0          8        455.0         225    3086        10.0    70   \n",
              "..    ...        ...          ...         ...     ...         ...   ...   \n",
              "387  31.0          4         91.0          68    1970        17.6    82   \n",
              "388  37.0          4         91.0          68    2025        18.2    82   \n",
              "389  36.0          4        120.0          88    2160        14.5    82   \n",
              "390  32.0          4        144.0          96    2665        13.9    82   \n",
              "391  34.0          4        108.0          70    2245        16.9    82   \n",
              "\n",
              "       Origin  \n",
              "0    American  \n",
              "1    American  \n",
              "2    American  \n",
              "3    American  \n",
              "4    American  \n",
              "..        ...  \n",
              "387  Japanese  \n",
              "388  Japanese  \n",
              "389  Japanese  \n",
              "390  Japanese  \n",
              "391  Japanese  \n",
              "\n",
              "[392 rows x 8 columns]"
            ],
            "text/html": [
              "\n",
              "  <div id=\"df-1b586379-9107-4705-a708-48fecede32c1\" class=\"colab-df-container\">\n",
              "    <div>\n",
              "<style scoped>\n",
              "    .dataframe tbody tr th:only-of-type {\n",
              "        vertical-align: middle;\n",
              "    }\n",
              "\n",
              "    .dataframe tbody tr th {\n",
              "        vertical-align: top;\n",
              "    }\n",
              "\n",
              "    .dataframe thead th {\n",
              "        text-align: right;\n",
              "    }\n",
              "</style>\n",
              "<table border=\"1\" class=\"dataframe\">\n",
              "  <thead>\n",
              "    <tr style=\"text-align: right;\">\n",
              "      <th></th>\n",
              "      <th>MPG</th>\n",
              "      <th>Cylinders</th>\n",
              "      <th>Engine Disp</th>\n",
              "      <th>Horsepower</th>\n",
              "      <th>Weight</th>\n",
              "      <th>Accelerate</th>\n",
              "      <th>Year</th>\n",
              "      <th>Origin</th>\n",
              "    </tr>\n",
              "  </thead>\n",
              "  <tbody>\n",
              "    <tr>\n",
              "      <th>0</th>\n",
              "      <td>15.0</td>\n",
              "      <td>8</td>\n",
              "      <td>390.0</td>\n",
              "      <td>190</td>\n",
              "      <td>3850</td>\n",
              "      <td>8.5</td>\n",
              "      <td>70</td>\n",
              "      <td>American</td>\n",
              "    </tr>\n",
              "    <tr>\n",
              "      <th>1</th>\n",
              "      <td>21.0</td>\n",
              "      <td>6</td>\n",
              "      <td>199.0</td>\n",
              "      <td>90</td>\n",
              "      <td>2648</td>\n",
              "      <td>15.0</td>\n",
              "      <td>70</td>\n",
              "      <td>American</td>\n",
              "    </tr>\n",
              "    <tr>\n",
              "      <th>2</th>\n",
              "      <td>18.0</td>\n",
              "      <td>6</td>\n",
              "      <td>199.0</td>\n",
              "      <td>97</td>\n",
              "      <td>2774</td>\n",
              "      <td>15.5</td>\n",
              "      <td>70</td>\n",
              "      <td>American</td>\n",
              "    </tr>\n",
              "    <tr>\n",
              "      <th>3</th>\n",
              "      <td>16.0</td>\n",
              "      <td>8</td>\n",
              "      <td>304.0</td>\n",
              "      <td>150</td>\n",
              "      <td>3433</td>\n",
              "      <td>12.0</td>\n",
              "      <td>70</td>\n",
              "      <td>American</td>\n",
              "    </tr>\n",
              "    <tr>\n",
              "      <th>4</th>\n",
              "      <td>14.0</td>\n",
              "      <td>8</td>\n",
              "      <td>455.0</td>\n",
              "      <td>225</td>\n",
              "      <td>3086</td>\n",
              "      <td>10.0</td>\n",
              "      <td>70</td>\n",
              "      <td>American</td>\n",
              "    </tr>\n",
              "    <tr>\n",
              "      <th>...</th>\n",
              "      <td>...</td>\n",
              "      <td>...</td>\n",
              "      <td>...</td>\n",
              "      <td>...</td>\n",
              "      <td>...</td>\n",
              "      <td>...</td>\n",
              "      <td>...</td>\n",
              "      <td>...</td>\n",
              "    </tr>\n",
              "    <tr>\n",
              "      <th>387</th>\n",
              "      <td>31.0</td>\n",
              "      <td>4</td>\n",
              "      <td>91.0</td>\n",
              "      <td>68</td>\n",
              "      <td>1970</td>\n",
              "      <td>17.6</td>\n",
              "      <td>82</td>\n",
              "      <td>Japanese</td>\n",
              "    </tr>\n",
              "    <tr>\n",
              "      <th>388</th>\n",
              "      <td>37.0</td>\n",
              "      <td>4</td>\n",
              "      <td>91.0</td>\n",
              "      <td>68</td>\n",
              "      <td>2025</td>\n",
              "      <td>18.2</td>\n",
              "      <td>82</td>\n",
              "      <td>Japanese</td>\n",
              "    </tr>\n",
              "    <tr>\n",
              "      <th>389</th>\n",
              "      <td>36.0</td>\n",
              "      <td>4</td>\n",
              "      <td>120.0</td>\n",
              "      <td>88</td>\n",
              "      <td>2160</td>\n",
              "      <td>14.5</td>\n",
              "      <td>82</td>\n",
              "      <td>Japanese</td>\n",
              "    </tr>\n",
              "    <tr>\n",
              "      <th>390</th>\n",
              "      <td>32.0</td>\n",
              "      <td>4</td>\n",
              "      <td>144.0</td>\n",
              "      <td>96</td>\n",
              "      <td>2665</td>\n",
              "      <td>13.9</td>\n",
              "      <td>82</td>\n",
              "      <td>Japanese</td>\n",
              "    </tr>\n",
              "    <tr>\n",
              "      <th>391</th>\n",
              "      <td>34.0</td>\n",
              "      <td>4</td>\n",
              "      <td>108.0</td>\n",
              "      <td>70</td>\n",
              "      <td>2245</td>\n",
              "      <td>16.9</td>\n",
              "      <td>82</td>\n",
              "      <td>Japanese</td>\n",
              "    </tr>\n",
              "  </tbody>\n",
              "</table>\n",
              "<p>392 rows × 8 columns</p>\n",
              "</div>\n",
              "    <div class=\"colab-df-buttons\">\n",
              "\n",
              "  <div class=\"colab-df-container\">\n",
              "    <button class=\"colab-df-convert\" onclick=\"convertToInteractive('df-1b586379-9107-4705-a708-48fecede32c1')\"\n",
              "            title=\"Convert this dataframe to an interactive table.\"\n",
              "            style=\"display:none;\">\n",
              "\n",
              "  <svg xmlns=\"http://www.w3.org/2000/svg\" height=\"24px\" viewBox=\"0 -960 960 960\">\n",
              "    <path d=\"M120-120v-720h720v720H120Zm60-500h600v-160H180v160Zm220 220h160v-160H400v160Zm0 220h160v-160H400v160ZM180-400h160v-160H180v160Zm440 0h160v-160H620v160ZM180-180h160v-160H180v160Zm440 0h160v-160H620v160Z\"/>\n",
              "  </svg>\n",
              "    </button>\n",
              "\n",
              "  <style>\n",
              "    .colab-df-container {\n",
              "      display:flex;\n",
              "      gap: 12px;\n",
              "    }\n",
              "\n",
              "    .colab-df-convert {\n",
              "      background-color: #E8F0FE;\n",
              "      border: none;\n",
              "      border-radius: 50%;\n",
              "      cursor: pointer;\n",
              "      display: none;\n",
              "      fill: #1967D2;\n",
              "      height: 32px;\n",
              "      padding: 0 0 0 0;\n",
              "      width: 32px;\n",
              "    }\n",
              "\n",
              "    .colab-df-convert:hover {\n",
              "      background-color: #E2EBFA;\n",
              "      box-shadow: 0px 1px 2px rgba(60, 64, 67, 0.3), 0px 1px 3px 1px rgba(60, 64, 67, 0.15);\n",
              "      fill: #174EA6;\n",
              "    }\n",
              "\n",
              "    .colab-df-buttons div {\n",
              "      margin-bottom: 4px;\n",
              "    }\n",
              "\n",
              "    [theme=dark] .colab-df-convert {\n",
              "      background-color: #3B4455;\n",
              "      fill: #D2E3FC;\n",
              "    }\n",
              "\n",
              "    [theme=dark] .colab-df-convert:hover {\n",
              "      background-color: #434B5C;\n",
              "      box-shadow: 0px 1px 3px 1px rgba(0, 0, 0, 0.15);\n",
              "      filter: drop-shadow(0px 1px 2px rgba(0, 0, 0, 0.3));\n",
              "      fill: #FFFFFF;\n",
              "    }\n",
              "  </style>\n",
              "\n",
              "    <script>\n",
              "      const buttonEl =\n",
              "        document.querySelector('#df-1b586379-9107-4705-a708-48fecede32c1 button.colab-df-convert');\n",
              "      buttonEl.style.display =\n",
              "        google.colab.kernel.accessAllowed ? 'block' : 'none';\n",
              "\n",
              "      async function convertToInteractive(key) {\n",
              "        const element = document.querySelector('#df-1b586379-9107-4705-a708-48fecede32c1');\n",
              "        const dataTable =\n",
              "          await google.colab.kernel.invokeFunction('convertToInteractive',\n",
              "                                                    [key], {});\n",
              "        if (!dataTable) return;\n",
              "\n",
              "        const docLinkHtml = 'Like what you see? Visit the ' +\n",
              "          '<a target=\"_blank\" href=https://colab.research.google.com/notebooks/data_table.ipynb>data table notebook</a>'\n",
              "          + ' to learn more about interactive tables.';\n",
              "        element.innerHTML = '';\n",
              "        dataTable['output_type'] = 'display_data';\n",
              "        await google.colab.output.renderOutput(dataTable, element);\n",
              "        const docLink = document.createElement('div');\n",
              "        docLink.innerHTML = docLinkHtml;\n",
              "        element.appendChild(docLink);\n",
              "      }\n",
              "    </script>\n",
              "  </div>\n",
              "\n",
              "\n",
              "<div id=\"df-67bace1c-b746-4113-9450-c5595448a499\">\n",
              "  <button class=\"colab-df-quickchart\" onclick=\"quickchart('df-67bace1c-b746-4113-9450-c5595448a499')\"\n",
              "            title=\"Suggest charts.\"\n",
              "            style=\"display:none;\">\n",
              "\n",
              "<svg xmlns=\"http://www.w3.org/2000/svg\" height=\"24px\"viewBox=\"0 0 24 24\"\n",
              "     width=\"24px\">\n",
              "    <g>\n",
              "        <path d=\"M19 3H5c-1.1 0-2 .9-2 2v14c0 1.1.9 2 2 2h14c1.1 0 2-.9 2-2V5c0-1.1-.9-2-2-2zM9 17H7v-7h2v7zm4 0h-2V7h2v10zm4 0h-2v-4h2v4z\"/>\n",
              "    </g>\n",
              "</svg>\n",
              "  </button>\n",
              "\n",
              "<style>\n",
              "  .colab-df-quickchart {\n",
              "      --bg-color: #E8F0FE;\n",
              "      --fill-color: #1967D2;\n",
              "      --hover-bg-color: #E2EBFA;\n",
              "      --hover-fill-color: #174EA6;\n",
              "      --disabled-fill-color: #AAA;\n",
              "      --disabled-bg-color: #DDD;\n",
              "  }\n",
              "\n",
              "  [theme=dark] .colab-df-quickchart {\n",
              "      --bg-color: #3B4455;\n",
              "      --fill-color: #D2E3FC;\n",
              "      --hover-bg-color: #434B5C;\n",
              "      --hover-fill-color: #FFFFFF;\n",
              "      --disabled-bg-color: #3B4455;\n",
              "      --disabled-fill-color: #666;\n",
              "  }\n",
              "\n",
              "  .colab-df-quickchart {\n",
              "    background-color: var(--bg-color);\n",
              "    border: none;\n",
              "    border-radius: 50%;\n",
              "    cursor: pointer;\n",
              "    display: none;\n",
              "    fill: var(--fill-color);\n",
              "    height: 32px;\n",
              "    padding: 0;\n",
              "    width: 32px;\n",
              "  }\n",
              "\n",
              "  .colab-df-quickchart:hover {\n",
              "    background-color: var(--hover-bg-color);\n",
              "    box-shadow: 0 1px 2px rgba(60, 64, 67, 0.3), 0 1px 3px 1px rgba(60, 64, 67, 0.15);\n",
              "    fill: var(--button-hover-fill-color);\n",
              "  }\n",
              "\n",
              "  .colab-df-quickchart-complete:disabled,\n",
              "  .colab-df-quickchart-complete:disabled:hover {\n",
              "    background-color: var(--disabled-bg-color);\n",
              "    fill: var(--disabled-fill-color);\n",
              "    box-shadow: none;\n",
              "  }\n",
              "\n",
              "  .colab-df-spinner {\n",
              "    border: 2px solid var(--fill-color);\n",
              "    border-color: transparent;\n",
              "    border-bottom-color: var(--fill-color);\n",
              "    animation:\n",
              "      spin 1s steps(1) infinite;\n",
              "  }\n",
              "\n",
              "  @keyframes spin {\n",
              "    0% {\n",
              "      border-color: transparent;\n",
              "      border-bottom-color: var(--fill-color);\n",
              "      border-left-color: var(--fill-color);\n",
              "    }\n",
              "    20% {\n",
              "      border-color: transparent;\n",
              "      border-left-color: var(--fill-color);\n",
              "      border-top-color: var(--fill-color);\n",
              "    }\n",
              "    30% {\n",
              "      border-color: transparent;\n",
              "      border-left-color: var(--fill-color);\n",
              "      border-top-color: var(--fill-color);\n",
              "      border-right-color: var(--fill-color);\n",
              "    }\n",
              "    40% {\n",
              "      border-color: transparent;\n",
              "      border-right-color: var(--fill-color);\n",
              "      border-top-color: var(--fill-color);\n",
              "    }\n",
              "    60% {\n",
              "      border-color: transparent;\n",
              "      border-right-color: var(--fill-color);\n",
              "    }\n",
              "    80% {\n",
              "      border-color: transparent;\n",
              "      border-right-color: var(--fill-color);\n",
              "      border-bottom-color: var(--fill-color);\n",
              "    }\n",
              "    90% {\n",
              "      border-color: transparent;\n",
              "      border-bottom-color: var(--fill-color);\n",
              "    }\n",
              "  }\n",
              "</style>\n",
              "\n",
              "  <script>\n",
              "    async function quickchart(key) {\n",
              "      const quickchartButtonEl =\n",
              "        document.querySelector('#' + key + ' button');\n",
              "      quickchartButtonEl.disabled = true;  // To prevent multiple clicks.\n",
              "      quickchartButtonEl.classList.add('colab-df-spinner');\n",
              "      try {\n",
              "        const charts = await google.colab.kernel.invokeFunction(\n",
              "            'suggestCharts', [key], {});\n",
              "      } catch (error) {\n",
              "        console.error('Error during call to suggestCharts:', error);\n",
              "      }\n",
              "      quickchartButtonEl.classList.remove('colab-df-spinner');\n",
              "      quickchartButtonEl.classList.add('colab-df-quickchart-complete');\n",
              "    }\n",
              "    (() => {\n",
              "      let quickchartButtonEl =\n",
              "        document.querySelector('#df-67bace1c-b746-4113-9450-c5595448a499 button');\n",
              "      quickchartButtonEl.style.display =\n",
              "        google.colab.kernel.accessAllowed ? 'block' : 'none';\n",
              "    })();\n",
              "  </script>\n",
              "</div>\n",
              "    </div>\n",
              "  </div>\n"
            ]
          },
          "metadata": {},
          "execution_count": 100
        }
      ]
    },
    {
      "cell_type": "code",
      "source": [
        "LinearRegressionModel = LinearRegression()\n",
        "LinearRegressionModel.fit(X_train, y_train)\n",
        "print('Linear Regression Train Score is : ' , LinearRegressionModel.score(X_train, y_train))\n",
        "print('Linear Regression Test Score is : ' , LinearRegressionModel.score(X_test, y_test))\n",
        "print('Linear Regression Coef is : ' , LinearRegressionModel.coef_)\n",
        "print('Linear Regression intercept is : ' , LinearRegressionModel.intercept_)\n",
        "print('----------------------------------------------------')\n",
        "\n",
        "y_pred = LinearRegressionModel.predict(X_test)\n",
        "print('Predicted Value for Linear Regression is : ' , y_pred[:10])\n",
        "\n"
      ],
      "metadata": {
        "id": "fsT4cKF2j6Lk",
        "outputId": "b4bad319-574f-4cc1-b38c-f3b409fe491d",
        "colab": {
          "base_uri": "https://localhost:8080/"
        }
      },
      "execution_count": 101,
      "outputs": [
        {
          "output_type": "stream",
          "name": "stdout",
          "text": [
            "Linear Regression Train Score is :  0.797820768159934\n",
            "Linear Regression Test Score is :  0.8443741741719626\n",
            "Linear Regression Coef is :  [-0.29233906  0.00957021 -0.00768647 -0.00673539  0.06898605  0.75008197]\n",
            "Linear Regression intercept is :  -14.115788977729714\n",
            "----------------------------------------------------\n",
            "Predicted Value for Linear Regression is :  [20.26327088 20.70015528 30.98495666 20.53571425 30.97957074 31.72752418\n",
            " 24.19381107 32.57745195 31.25939468 30.94382796]\n"
          ]
        }
      ]
    },
    {
      "cell_type": "markdown",
      "source": [
        "#Applying Lasso Regression Model\n"
      ],
      "metadata": {
        "id": "g5h1bI2fwlwy"
      }
    },
    {
      "cell_type": "code",
      "source": [
        "\n",
        "LassoRegressionModel = Lasso(alpha=1)\n",
        "LassoRegressionModel.fit(X_train, y_train)\n",
        "\n",
        "print('Lasso Regression Train Score is : ' , LassoRegressionModel.score(X_train, y_train))\n",
        "print('Lasso Regression Test Score is : ' , LassoRegressionModel.score(X_test, y_test))\n",
        "print('Lasso Regression Coef is : ' , LassoRegressionModel.coef_)\n",
        "print('Lasso Regression intercept is : ' , LassoRegressionModel.intercept_)\n",
        "print('----------------------------------------------------')\n",
        "\n",
        "y_pred = LassoRegressionModel.predict(X_test)\n",
        "print('Predicted Value for Lasso Regression is : ' , y_pred[:10])\n",
        "\n"
      ],
      "metadata": {
        "id": "Fwbrjumtgg9-",
        "outputId": "0168e8d8-b44f-4e66-c94a-47f42f0af68b",
        "colab": {
          "base_uri": "https://localhost:8080/"
        }
      },
      "execution_count": 108,
      "outputs": [
        {
          "output_type": "stream",
          "name": "stdout",
          "text": [
            "Lasso Regression Train Score is :  0.7955950274697308\n",
            "Lasso Regression Test Score is :  0.8416884411111116\n",
            "Lasso Regression Coef is :  [-0.          0.0017941  -0.01170231 -0.00641101  0.          0.65752762]\n",
            "Lasso Regression intercept is :  -6.658351311644058\n",
            "----------------------------------------------------\n",
            "Predicted Value for Lasso Regression is :  [20.78656911 21.18915346 30.87187548 20.43753446 30.98668061 31.07567777\n",
            " 23.7962084  32.39366919 30.85159924 30.57033379]\n"
          ]
        }
      ]
    },
    {
      "cell_type": "code",
      "source": [],
      "metadata": {
        "id": "2r2mwfasykZg"
      },
      "execution_count": 110,
      "outputs": []
    },
    {
      "cell_type": "markdown",
      "source": [
        "#Applying Ridge Regression Model\n"
      ],
      "metadata": {
        "id": "YrIYSbSEzAhD"
      }
    },
    {
      "cell_type": "code",
      "source": [
        "\n",
        "RidgeRegressionModel = Ridge(alpha=1.0,random_state=33)\n",
        "RidgeRegressionModel.fit(X_train, y_train)\n",
        "\n",
        "print('Ridge Regression Train Score is : ' , RidgeRegressionModel.score(X_train, y_train))\n",
        "print('Ridge Regression Test Score is : ' , RidgeRegressionModel.score(X_test, y_test))\n",
        "print('Ridge Regression Coef is : ' , RidgeRegressionModel.coef_)\n",
        "print('Ridge Regression intercept is : ' , RidgeRegressionModel.intercept_)\n",
        "print('----------------------------------------------------')\n",
        "\n",
        "y_pred = RidgeRegressionModel.predict(X_test)\n",
        "print('Predicted Value for Ridge Regression is : ' , y_pred[:10])\n",
        "print('----------------------------------------------------')\n"
      ],
      "metadata": {
        "id": "5tezyEXIghPv",
        "outputId": "1a221ff4-ed93-43ed-8841-53ad8fe21cfe",
        "colab": {
          "base_uri": "https://localhost:8080/"
        }
      },
      "execution_count": 111,
      "outputs": [
        {
          "output_type": "stream",
          "name": "stdout",
          "text": [
            "Ridge Regression Train Score is :  0.797820705664416\n",
            "Ridge Regression Test Score is :  0.8443663598474092\n",
            "Ridge Regression Coef is :  [-0.28894538  0.00951751 -0.00768504 -0.00673576  0.06896326  0.74985285]\n",
            "Ridge Regression intercept is :  -14.105453440849928\n",
            "----------------------------------------------------\n",
            "Predicted Value for Ridge Regression is :  [20.26304946 20.70530407 30.98419601 20.5376811  30.97955839 31.72557144\n",
            " 24.19255069 32.5774707  31.25790733 30.94100654]\n",
            "----------------------------------------------------\n"
          ]
        }
      ]
    },
    {
      "cell_type": "markdown",
      "source": [
        "#Applying Random Forest Regressor Model\n"
      ],
      "metadata": {
        "id": "57lnS8DXzab6"
      }
    },
    {
      "cell_type": "code",
      "source": [
        "\n",
        "RandomForestRegressorModel = RandomForestRegressor(n_estimators=100,max_depth=2, random_state=33)\n",
        "RandomForestRegressorModel.fit(X_train, y_train)\n",
        "\n",
        "print('Random Forest Regressor Train Score is : ' , RandomForestRegressorModel.score(X_train, y_train))\n",
        "print('Random Forest Regressor Test Score is : ' , RandomForestRegressorModel.score(X_test, y_test))\n",
        "print('----------------------------------------------------')\n",
        "\n",
        "y_pred = RandomForestRegressorModel.predict(X_test)\n",
        "print('Predicted Value for Random Forest Regressor is : ' , y_pred[:10])\n"
      ],
      "metadata": {
        "id": "b4r-TD3TzLtV",
        "outputId": "7e787f4b-584c-4337-b287-14293b40a51d",
        "colab": {
          "base_uri": "https://localhost:8080/"
        }
      },
      "execution_count": 114,
      "outputs": [
        {
          "output_type": "stream",
          "name": "stdout",
          "text": [
            "Random Forest Regressor Train Score is :  0.7885789798235524\n",
            "Random Forest Regressor Test Score is :  0.7615786202697129\n",
            "----------------------------------------------------\n",
            "Predicted Value for Random Forest Regressor is :  [25.29413948 18.64742174 31.77986806 16.932099   31.93525752 25.91635384\n",
            " 20.19233388 33.09479376 28.27927604 26.62717495]\n"
          ]
        }
      ]
    },
    {
      "cell_type": "markdown",
      "source": [
        "#Applying SVR Model\n"
      ],
      "metadata": {
        "id": "FZuzvek1ziwQ"
      }
    },
    {
      "cell_type": "code",
      "source": [
        "\n",
        "SVRModel = SVR(C = 1.0 ,epsilon=0.1,kernel = 'rbf') # it also can be : linear, poly, rbf, sigmoid, precomputed\n",
        "SVRModel.fit(X_train, y_train)\n",
        "\n",
        "#Calculating Details\n",
        "print('SVRModel Train Score is : ' , SVRModel.score(X_train, y_train))\n",
        "print('SVRModel Test Score is : ' , SVRModel.score(X_test, y_test))\n",
        "print('----------------------------------------------------')\n",
        "\n",
        "#Calculating Prediction\n",
        "y_pred = SVRModel.predict(X_test)\n",
        "print('Predicted Value for SVRModel is : ' , y_pred[:10])\n"
      ],
      "metadata": {
        "id": "bgWTpkU8zhy4",
        "outputId": "1216bb12-434c-4b76-f544-9d81c6fe6960",
        "colab": {
          "base_uri": "https://localhost:8080/"
        }
      },
      "execution_count": 116,
      "outputs": [
        {
          "output_type": "stream",
          "name": "stdout",
          "text": [
            "SVRModel Train Score is :  0.6673084107043958\n",
            "SVRModel Test Score is :  0.6694141787885322\n",
            "----------------------------------------------------\n",
            "Predicted Value for SVRModel is :  [22.38705174 20.11652574 27.98976642 16.80793924 28.12938407 26.34645093\n",
            " 18.50546688 28.80518702 26.66816163 26.39224103]\n"
          ]
        }
      ]
    },
    {
      "cell_type": "markdown",
      "source": [
        "\n",
        "#----------------------------------------------------\n",
        "#Applying KNeighborsRegressor Model\n",
        "\n",
        "'''\n",
        "sklearn.neighbors.KNeighborsRegressor(n_neighbors=5, weights=, algorithm=’auto’, leaf_size=30,\n",
        "                                      p=2, metric=’minkowski’, metric_params=None,n_jobs=None)\n",
        "'''\n"
      ],
      "metadata": {
        "id": "5BL5u00izk_E"
      }
    },
    {
      "cell_type": "code",
      "source": [
        "\n",
        "KNeighborsRegressorModel = KNeighborsRegressor(n_neighbors = 5, weights='uniform', #also can be : distance, or defined function\n",
        "                                               algorithm = 'auto')    #also can be : ball_tree ,  kd_tree  , brute\n",
        "KNeighborsRegressorModel.fit(X_train, y_train)\n",
        "\n",
        "#Calculating Details\n",
        "print('KNeighborsRegressorModel Train Score is : ' , KNeighborsRegressorModel.score(X_train, y_train))\n",
        "print('KNeighborsRegressorModel Test Score is : ' , KNeighborsRegressorModel.score(X_test, y_test))\n",
        "print('----------------------------------------------------')\n",
        "\n",
        "#Calculating Prediction\n",
        "y_pred = KNeighborsRegressorModel.predict(X_test)\n",
        "print('Predicted Value for KNeighborsRegressorModel is : ' , y_pred[:10])"
      ],
      "metadata": {
        "id": "5Uk48HWkzmSO",
        "outputId": "dd919640-ced9-4671-c322-3aa6e4222718",
        "colab": {
          "base_uri": "https://localhost:8080/"
        }
      },
      "execution_count": 117,
      "outputs": [
        {
          "output_type": "stream",
          "name": "stdout",
          "text": [
            "KNeighborsRegressorModel Train Score is :  0.807333930280229\n",
            "KNeighborsRegressorModel Test Score is :  0.7277354624735146\n",
            "----------------------------------------------------\n",
            "Predicted Value for KNeighborsRegressorModel is :  [25.72 19.5  32.66 18.2  32.98 23.78 18.   33.96 27.86 21.78]\n"
          ]
        }
      ]
    },
    {
      "cell_type": "markdown",
      "source": [
        "#Applying KNeighborsRegressor Model\n",
        "\n",
        "'''\n",
        "sklearn.neighbors.KNeighborsRegressor(n_neighbors=5, weights=, algorithm=’auto’, leaf_size=30,\n",
        "                                      p=2, metric=’minkowski’, metric_params=None,n_jobs=None)\n",
        "'''\n"
      ],
      "metadata": {
        "id": "BEfFacbf1VEk"
      }
    },
    {
      "cell_type": "code",
      "source": [
        "\n",
        "KNeighborsRegressorModel = KNeighborsRegressor(n_neighbors = 5, weights='uniform', #also can be : distance, or defined function\n",
        "                                               algorithm = 'auto')    #also can be : ball_tree ,  kd_tree  , brute\n",
        "KNeighborsRegressorModel.fit(X_train, y_train)\n",
        "\n",
        "#Calculating Details\n",
        "print('KNeighborsRegressorModel Train Score is : ' , KNeighborsRegressorModel.score(X_train, y_train))\n",
        "print('KNeighborsRegressorModel Test Score is : ' , KNeighborsRegressorModel.score(X_test, y_test))\n",
        "print('----------------------------------------------------')\n",
        "\n",
        "#Calculating Prediction\n",
        "y_pred = KNeighborsRegressorModel.predict(X_test)\n",
        "print('Predicted Value for KNeighborsRegressorModel is : ' , y_pred)"
      ],
      "metadata": {
        "colab": {
          "base_uri": "https://localhost:8080/"
        },
        "id": "iMDMfX2BYU04",
        "outputId": "59c4dc85-6b4e-4227-9b83-11c33ebad4b1"
      },
      "execution_count": 119,
      "outputs": [
        {
          "output_type": "stream",
          "name": "stdout",
          "text": [
            "KNeighborsRegressorModel Train Score is :  0.807333930280229\n",
            "KNeighborsRegressorModel Test Score is :  0.7277354624735146\n",
            "----------------------------------------------------\n",
            "Predicted Value for KNeighborsRegressorModel is :  [25.72 19.5  32.66 18.2  32.98 23.78 18.   33.96 27.86 21.78 37.3  14.5\n",
            " 28.5  14.8  25.84 14.68 29.74 25.78 17.9  25.08 15.28 26.3  26.94 22.76\n",
            " 12.2  33.7  13.8  23.58 23.94 14.2  18.68 20.96 34.44 23.2  29.42 26.44\n",
            " 33.12 15.5  34.86 14.8  13.2  19.28 30.04 27.8  20.78 26.28 23.3  33.8\n",
            " 27.06 18.96 23.64 19.08 26.   25.04 18.8  13.8  16.1  18.96 22.28 24.34\n",
            " 31.24 30.16 17.8  14.5  31.74 25.4  34.86 25.64 27.4  19.48 18.62 20.2\n",
            " 36.28 23.78 23.44 13.2  17.04 28.76 13.8 ]\n"
          ]
        }
      ]
    },
    {
      "cell_type": "markdown",
      "source": [
        "\n",
        "\n",
        "#----------------------------------------------------\n",
        "#Applying DecisionTreeRegressor Model\n",
        "\n",
        "'''"
      ],
      "metadata": {
        "id": "lomlrL221pEm"
      }
    },
    {
      "cell_type": "code",
      "source": [
        "\n",
        "\n",
        "DecisionTreeRegressorModel = DecisionTreeRegressor( max_depth=3,random_state=33)\n",
        "DecisionTreeRegressorModel.fit(X_train, y_train)\n",
        "\n",
        "#Calculating Details\n",
        "print('DecisionTreeRegressor Train Score is : ' , DecisionTreeRegressorModel.score(X_train, y_train))\n",
        "print('DecisionTreeRegressor Test Score is : ' , DecisionTreeRegressorModel.score(X_test, y_test))\n",
        "print('----------------------------------------------------')\n",
        "\n",
        "#Calculating Prediction\n",
        "y_pred = DecisionTreeRegressorModel.predict(X_test)\n",
        "print('Predicted Value for DecisionTreeRegressorModel is : ' , y_pred[:10])"
      ],
      "metadata": {
        "id": "1jJnLg1c1Y4u",
        "outputId": "fdd705b4-7c1d-47d0-b2e9-967494d3534b",
        "colab": {
          "base_uri": "https://localhost:8080/"
        }
      },
      "execution_count": 122,
      "outputs": [
        {
          "output_type": "stream",
          "name": "stdout",
          "text": [
            "DecisionTreeRegressor Train Score is :  0.8313548997109894\n",
            "DecisionTreeRegressor Test Score is :  0.8041643719034978\n",
            "----------------------------------------------------\n",
            "Predicted Value for DecisionTreeRegressorModel is :  [24.61408451 18.93606557 36.41470588 18.63333333 36.41470588 29.54242424\n",
            " 26.12       36.41470588 29.54242424 29.54242424]\n"
          ]
        }
      ]
    },
    {
      "cell_type": "code",
      "source": [],
      "metadata": {
        "id": "ALvqLoA31unW"
      },
      "execution_count": 128,
      "outputs": []
    },
    {
      "cell_type": "code",
      "source": [],
      "metadata": {
        "id": "btatDxyM2Abv"
      },
      "execution_count": null,
      "outputs": []
    }
  ],
  "metadata": {
    "kernelspec": {
      "display_name": "Python",
      "language": "python",
      "name": "conda-env-python-py"
    },
    "language_info": {
      "name": ""
    },
    "colab": {
      "provenance": [],
      "gpuType": "T4"
    },
    "accelerator": "GPU"
  },
  "nbformat": 4,
  "nbformat_minor": 0
}